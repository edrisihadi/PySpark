{
  "cells": [
    {
      "cell_type": "markdown",
      "source": [
        "# PySpark tutorial"
      ],
      "metadata": {
        "id": "5b6oLiy6Wq4J"
      }
    },
    {
      "cell_type": "markdown",
      "source": [
        "## What is PySpark?\n"
      ],
      "metadata": {
        "id": "zvUJh5IyyLwe"
      }
    },
    {
      "cell_type": "markdown",
      "source": [
        "pyspark is a python api for working with apache spark.\n",
        "\n",
        "* **Python api**: you can use the syntex and agility of python to interact with and send commands to a system that is not based, at its core, on python. \n",
        "\n",
        "* **Apache Spark**: a system designed for working, analyzing and modeling with immense amounts of data in many computers at the same time. Putting it in a different way, apache spark allows you to run computations in parallel, instead of sequentially. It allows you to divide one incredibly large task into many smaller tasks, and run each such task on a different machine. This allowes you to accomplish your analysis goals in reasonable time that would not be possible on a single machine.\n",
        "\n",
        "usually, we would define the amount of data that suits PySpark as what would not fit into a single machine storage (let alone RAM).\n",
        "\n",
        "**important related concepts:** \n",
        "1. distributed computing - when you distribute a task into several smaller task that run at the same time. this is what pyspark allows you to do with many machines, but it can also be done on a single machine with several threads, for example.\n",
        "2. cluster - a network of machines that can take on tasks from a user, interact with one another and return results. these provide the computing resources that pyspark will use to make the computations.\n",
        "3. Resilient Distributed Dataset (RDD) - an immutable distributed collection of data. it is not tabular and has no data schema. therefore, for tabular data wrangling, DataFrames allowes for more API options and uner-then-hood optimizations. still, you might encounter RDDs as you learn more about Spark, and should be aware of their existence.\n",
        "\n",
        "**Part of PySpark we will cover:**\n",
        "1. PySpark SQL - contains commands for data processing and manipulation.\n",
        "2. PySpark MLlib - includes a variety of models, model training and related commands.\n",
        "\n",
        "**Spark Architecture:**\n",
        "to send commands and receive results from a cluster, you will need to initiate a spark session. this object is your tool for interacting with Spark. each user of the cluster will have its own Spark Session, that will allow him to use the cluster in isolation from other users. all of the sessions are communicating with a spark context, which is the master node in the cluster - that is, it assigns each of computers in the cluster tasks and coordinates them. each of the computers in the cluster that perform tasks for a master node is called a worker node. to connect to a worker node, the master node needs to get that node's comput power allocated to it, by a cluster manager, that is responsable for distributing the cluster resources. inside each worker node, there are execute programs that run the tasks - they can run multiple tasks simultaneously, and has their own cashe for storing results. so, each master node can have multiple worker nodes, that can have multiple tasks running.  "
      ],
      "metadata": {
        "id": "UqQwlqT8bQ_m"
      }
    },
    {
      "cell_type": "markdown",
      "source": [
        "## Part01- install, import, and Session"
      ],
      "metadata": {
        "id": "WwGrKO--yOTy"
      }
    },
    {
      "cell_type": "code",
      "execution_count": 1,
      "metadata": {
        "id": "lIYdn1woOS1n",
        "colab": {
          "base_uri": "https://localhost:8080/"
        },
        "outputId": "b9e33cc3-c5c9-4199-917c-eeed0ca347dc"
      },
      "outputs": [
        {
          "output_type": "stream",
          "name": "stdout",
          "text": [
            "Looking in indexes: https://pypi.org/simple, https://us-python.pkg.dev/colab-wheels/public/simple/\n",
            "Collecting pyspark\n",
            "  Downloading pyspark-3.4.0.tar.gz (310.8 MB)\n",
            "\u001b[2K     \u001b[90m━━━━━━━━━━━━━━━━━━━━━━━━━━━━━━━━━━━━━━━\u001b[0m \u001b[32m310.8/310.8 MB\u001b[0m \u001b[31m4.0 MB/s\u001b[0m eta \u001b[36m0:00:00\u001b[0m\n",
            "\u001b[?25h  Preparing metadata (setup.py) ... \u001b[?25l\u001b[?25hdone\n",
            "Requirement already satisfied: py4j==0.10.9.7 in /usr/local/lib/python3.10/dist-packages (from pyspark) (0.10.9.7)\n",
            "Building wheels for collected packages: pyspark\n",
            "  Building wheel for pyspark (setup.py) ... \u001b[?25l\u001b[?25hdone\n",
            "  Created wheel for pyspark: filename=pyspark-3.4.0-py2.py3-none-any.whl size=311317130 sha256=e23d38f273fb0f1d90160a75fe7e0d159a466ba1346d3a2a4fbe40b916c326b1\n",
            "  Stored in directory: /root/.cache/pip/wheels/7b/1b/4b/3363a1d04368e7ff0d408e57ff57966fcdf00583774e761327\n",
            "Successfully built pyspark\n",
            "Installing collected packages: pyspark\n",
            "Successfully installed pyspark-3.4.0\n"
          ]
        }
      ],
      "source": [
        "!pip install pyspark # ~ 1 min"
      ]
    },
    {
      "cell_type": "code",
      "source": [
        "!gdown --id 1mnHABJPgkjhfwPpYWwn5LONVg31A0WWh"
      ],
      "metadata": {
        "colab": {
          "base_uri": "https://localhost:8080/"
        },
        "id": "F_ENBhvaW1L4",
        "outputId": "b14c94f9-cb1c-4fcf-89e9-ac47d580bc39"
      },
      "execution_count": 2,
      "outputs": [
        {
          "output_type": "stream",
          "name": "stdout",
          "text": [
            "/usr/local/lib/python3.10/dist-packages/gdown/cli.py:121: FutureWarning: Option `--id` was deprecated in version 4.3.1 and will be removed in 5.0. You don't need to pass it anymore to use a file ID.\n",
            "  warnings.warn(\n",
            "Downloading...\n",
            "From: https://drive.google.com/uc?id=1mnHABJPgkjhfwPpYWwn5LONVg31A0WWh\n",
            "To: /content/heart.csv\n",
            "100% 35.9k/35.9k [00:00<00:00, 53.4MB/s]\n"
          ]
        }
      ]
    },
    {
      "cell_type": "code",
      "source": [
        "!ls"
      ],
      "metadata": {
        "colab": {
          "base_uri": "https://localhost:8080/"
        },
        "id": "xJeYUjOmgnej",
        "outputId": "c5a1aa57-2c2c-42f1-9600-d88e2ad8cef8"
      },
      "execution_count": 3,
      "outputs": [
        {
          "output_type": "stream",
          "name": "stdout",
          "text": [
            "heart.csv  sample_data\n"
          ]
        }
      ]
    },
    {
      "cell_type": "markdown",
      "source": [
        "**Heart Failure Prediction Dataset**: https://www.kaggle.com/fedesoriano/heart-failure-prediction\n"
      ],
      "metadata": {
        "id": "2OhLvy3YbeGz"
      }
    },
    {
      "cell_type": "code",
      "source": [
        "import pyspark"
      ],
      "metadata": {
        "id": "mTCdY8-2YW_k"
      },
      "execution_count": 4,
      "outputs": []
    },
    {
      "cell_type": "code",
      "source": [
        "pyspark.__version__"
      ],
      "metadata": {
        "colab": {
          "base_uri": "https://localhost:8080/",
          "height": 35
        },
        "id": "q0JWLw0MYZGw",
        "outputId": "0f1ecbb4-5f66-48bd-87e3-15914949f5ad"
      },
      "execution_count": 5,
      "outputs": [
        {
          "output_type": "execute_result",
          "data": {
            "text/plain": [
              "'3.4.0'"
            ],
            "application/vnd.google.colaboratory.intrinsic+json": {
              "type": "string"
            }
          },
          "metadata": {},
          "execution_count": 5
        }
      ]
    },
    {
      "cell_type": "code",
      "source": [
        "# a SparkSession object can perform the most common data processing tasks\n",
        "from pyspark.sql import SparkSession"
      ],
      "metadata": {
        "id": "TTWv6FCCYg15"
      },
      "execution_count": 6,
      "outputs": []
    },
    {
      "cell_type": "code",
      "source": [
        "# will return existing session if one was created before and was not closed\n",
        "spark = SparkSession.builder.appName('youtube_test').getOrCreate()"
      ],
      "metadata": {
        "id": "-wMs3ViyYuaS"
      },
      "execution_count": 7,
      "outputs": []
    },
    {
      "cell_type": "code",
      "source": [
        "spark"
      ],
      "metadata": {
        "colab": {
          "base_uri": "https://localhost:8080/",
          "height": 219
        },
        "id": "hMdyP-a2cc24",
        "outputId": "08a4f3aa-b9c5-4352-cd49-f5d411a6fbd9"
      },
      "execution_count": 8,
      "outputs": [
        {
          "output_type": "execute_result",
          "data": {
            "text/plain": [
              "<pyspark.sql.session.SparkSession at 0x7f4d99e73d90>"
            ],
            "text/html": [
              "\n",
              "            <div>\n",
              "                <p><b>SparkSession - in-memory</b></p>\n",
              "                \n",
              "        <div>\n",
              "            <p><b>SparkContext</b></p>\n",
              "\n",
              "            <p><a href=\"http://0219814df1ad:4040\">Spark UI</a></p>\n",
              "\n",
              "            <dl>\n",
              "              <dt>Version</dt>\n",
              "                <dd><code>v3.4.0</code></dd>\n",
              "              <dt>Master</dt>\n",
              "                <dd><code>local[*]</code></dd>\n",
              "              <dt>AppName</dt>\n",
              "                <dd><code>youtube_test</code></dd>\n",
              "            </dl>\n",
              "        </div>\n",
              "        \n",
              "            </div>\n",
              "        "
            ]
          },
          "metadata": {},
          "execution_count": 8
        }
      ]
    },
    {
      "cell_type": "markdown",
      "source": [
        "## Part02- read and write (save)"
      ],
      "metadata": {
        "id": "jwscjM3WyW0q"
      }
    },
    {
      "cell_type": "code",
      "source": [
        "# let PySpark infer the schema\n",
        "df = spark.read.csv('heart.csv', header=True, nullValue='Nan', inferSchema=True)"
      ],
      "metadata": {
        "id": "RHZNazikgN28"
      },
      "execution_count": 9,
      "outputs": []
    },
    {
      "cell_type": "code",
      "source": [
        "#save a new dataframe\n",
        "df.write.format('csv').save('heart2.csv')\n",
        "#mode types\n",
        "df.write.format('csv').mode('overwrite').save('heart2.csv')"
      ],
      "metadata": {
        "id": "62r-4LC60YH0"
      },
      "execution_count": 10,
      "outputs": []
    },
    {
      "cell_type": "code",
      "source": [
        "type(df)"
      ],
      "metadata": {
        "colab": {
          "base_uri": "https://localhost:8080/"
        },
        "id": "zEiZUOFH3XSj",
        "outputId": "35dc1211-a73f-4eee-b0f8-d2d533d56684"
      },
      "execution_count": 11,
      "outputs": [
        {
          "output_type": "execute_result",
          "data": {
            "text/plain": [
              "pyspark.sql.dataframe.DataFrame"
            ]
          },
          "metadata": {},
          "execution_count": 11
        }
      ]
    },
    {
      "cell_type": "code",
      "source": [
        "pd_df = df.toPandas()"
      ],
      "metadata": {
        "id": "gu0xX6383ZX4"
      },
      "execution_count": 12,
      "outputs": []
    },
    {
      "cell_type": "code",
      "source": [
        "type(pd_df)"
      ],
      "metadata": {
        "colab": {
          "base_uri": "https://localhost:8080/"
        },
        "id": "vRtnyt6z3lHO",
        "outputId": "7b836453-330b-45b1-ba2d-5353c850071f"
      },
      "execution_count": 13,
      "outputs": [
        {
          "output_type": "execute_result",
          "data": {
            "text/plain": [
              "pandas.core.frame.DataFrame"
            ]
          },
          "metadata": {},
          "execution_count": 13
        }
      ]
    },
    {
      "cell_type": "code",
      "source": [
        "df_sp = spark.createDataFrame(pd_df)"
      ],
      "metadata": {
        "id": "9qlADJrO3ncl"
      },
      "execution_count": 14,
      "outputs": []
    },
    {
      "cell_type": "code",
      "source": [
        "type(df_sp)"
      ],
      "metadata": {
        "colab": {
          "base_uri": "https://localhost:8080/"
        },
        "id": "ak5qwoPs3uwS",
        "outputId": "3a96fb77-ee2d-4768-c9f7-a5214998216a"
      },
      "execution_count": 15,
      "outputs": [
        {
          "output_type": "execute_result",
          "data": {
            "text/plain": [
              "pyspark.sql.dataframe.DataFrame"
            ]
          },
          "metadata": {},
          "execution_count": 15
        }
      ]
    },
    {
      "cell_type": "markdown",
      "source": [
        "## Part03- Show df"
      ],
      "metadata": {
        "id": "XZmpdPlVzFdc"
      }
    },
    {
      "cell_type": "code",
      "source": [
        "# show 20 rows of table\n",
        "df.show()"
      ],
      "metadata": {
        "colab": {
          "base_uri": "https://localhost:8080/"
        },
        "id": "tbdPw3vdhHGx",
        "outputId": "25d200d7-9089-4a5d-f2cf-51612c7b4e99"
      },
      "execution_count": null,
      "outputs": [
        {
          "output_type": "stream",
          "name": "stdout",
          "text": [
            "+---+---+-------------+---------+-----------+---------+----------+-----+--------------+-------+--------+------------+\n",
            "|Age|Sex|ChestPainType|RestingBP|Cholesterol|FastingBS|RestingECG|MaxHR|ExerciseAngina|Oldpeak|ST_Slope|HeartDisease|\n",
            "+---+---+-------------+---------+-----------+---------+----------+-----+--------------+-------+--------+------------+\n",
            "| 40|  M|          ATA|      140|        289|        0|    Normal|  172|             N|    0.0|      Up|           0|\n",
            "| 49|  F|          NAP|      160|        180|        0|    Normal|  156|             N|    1.0|    Flat|           1|\n",
            "| 37|  M|          ATA|      130|        283|        0|        ST|   98|             N|    0.0|      Up|           0|\n",
            "| 48|  F|          ASY|      138|        214|        0|    Normal|  108|             Y|    1.5|    Flat|           1|\n",
            "| 54|  M|          NAP|      150|        195|        0|    Normal|  122|             N|    0.0|      Up|           0|\n",
            "| 39|  M|          NAP|      120|        339|        0|    Normal|  170|             N|    0.0|      Up|           0|\n",
            "| 45|  F|          ATA|      130|        237|        0|    Normal|  170|             N|    0.0|      Up|           0|\n",
            "| 54|  M|          ATA|      110|        208|        0|    Normal|  142|             N|    0.0|      Up|           0|\n",
            "| 37|  M|          ASY|      140|        207|        0|    Normal|  130|             Y|    1.5|    Flat|           1|\n",
            "| 48|  F|          ATA|      120|        284|        0|    Normal|  120|             N|    0.0|      Up|           0|\n",
            "| 37|  F|          NAP|      130|        211|        0|    Normal|  142|             N|    0.0|      Up|           0|\n",
            "| 58|  M|          ATA|      136|        164|        0|        ST|   99|             Y|    2.0|    Flat|           1|\n",
            "| 39|  M|          ATA|      120|        204|        0|    Normal|  145|             N|    0.0|      Up|           0|\n",
            "| 49|  M|          ASY|      140|        234|        0|    Normal|  140|             Y|    1.0|    Flat|           1|\n",
            "| 42|  F|          NAP|      115|        211|        0|        ST|  137|             N|    0.0|      Up|           0|\n",
            "| 54|  F|          ATA|      120|        273|        0|    Normal|  150|             N|    1.5|    Flat|           0|\n",
            "| 38|  M|          ASY|      110|        196|        0|    Normal|  166|             N|    0.0|    Flat|           1|\n",
            "| 43|  F|          ATA|      120|        201|        0|    Normal|  165|             N|    0.0|      Up|           0|\n",
            "| 60|  M|          ASY|      100|        248|        0|    Normal|  125|             N|    1.0|    Flat|           1|\n",
            "| 36|  M|          ATA|      120|        267|        0|    Normal|  160|             N|    3.0|    Flat|           1|\n",
            "+---+---+-------------+---------+-----------+---------+----------+-----+--------------+-------+--------+------------+\n",
            "only showing top 20 rows\n",
            "\n"
          ]
        }
      ]
    },
    {
      "cell_type": "code",
      "source": [
        "#df.take(3)\n",
        "#df.limit(3)\n",
        "#df.head(3)\n",
        "#df.collect()"
      ],
      "metadata": {
        "id": "ksoUexJeiKcg"
      },
      "execution_count": null,
      "outputs": []
    },
    {
      "cell_type": "code",
      "source": [
        "df.columns"
      ],
      "metadata": {
        "colab": {
          "base_uri": "https://localhost:8080/"
        },
        "id": "up9961G_i1Ap",
        "outputId": "9b2e9e3a-2fa7-407e-c157-3d2c68863c13"
      },
      "execution_count": null,
      "outputs": [
        {
          "output_type": "execute_result",
          "data": {
            "text/plain": [
              "['Age',\n",
              " 'Sex',\n",
              " 'ChestPainType',\n",
              " 'RestingBP',\n",
              " 'Cholesterol',\n",
              " 'FastingBS',\n",
              " 'RestingECG',\n",
              " 'MaxHR',\n",
              " 'ExerciseAngina',\n",
              " 'Oldpeak',\n",
              " 'ST_Slope',\n",
              " 'HeartDisease']"
            ]
          },
          "metadata": {},
          "execution_count": 166
        }
      ]
    },
    {
      "cell_type": "code",
      "source": [
        "df.describe().show()"
      ],
      "metadata": {
        "colab": {
          "base_uri": "https://localhost:8080/"
        },
        "id": "rS3jqtMJ1pbX",
        "outputId": "80b0fcb1-b90a-4132-a671-d717826ebea1"
      },
      "execution_count": null,
      "outputs": [
        {
          "output_type": "stream",
          "name": "stdout",
          "text": [
            "+-------+------------------+----+-------------+------------------+------------------+-------------------+----------+------------------+--------------+------------------+--------+-------------------+\n",
            "|summary|               Age| Sex|ChestPainType|         RestingBP|       Cholesterol|          FastingBS|RestingECG|             MaxHR|ExerciseAngina|           Oldpeak|ST_Slope|       HeartDisease|\n",
            "+-------+------------------+----+-------------+------------------+------------------+-------------------+----------+------------------+--------------+------------------+--------+-------------------+\n",
            "|  count|               918| 918|          918|               918|               918|                918|       918|               918|           918|               918|     918|                918|\n",
            "|   mean|53.510893246187365|null|         null|132.39651416122004| 198.7995642701525|0.23311546840958605|      null|136.80936819172112|          null|0.8873638344226581|    null| 0.5533769063180828|\n",
            "| stddev|  9.43261650673202|null|         null|18.514154119907808|109.38414455220345|0.42304562473930296|      null| 25.46033413825029|          null|1.0665701510493264|    null|0.49741373828459706|\n",
            "|    min|                28|   F|          ASY|                 0|                 0|                  0|       LVH|                60|             N|              -2.6|    Down|                  0|\n",
            "|    max|                77|   M|           TA|               200|               603|                  1|        ST|               202|             Y|               6.2|      Up|                  1|\n",
            "+-------+------------------+----+-------------+------------------+------------------+-------------------+----------+------------------+--------------+------------------+--------+-------------------+\n",
            "\n"
          ]
        }
      ]
    },
    {
      "cell_type": "code",
      "source": [
        "len(df.columns)"
      ],
      "metadata": {
        "colab": {
          "base_uri": "https://localhost:8080/"
        },
        "id": "nHH4Z4KTi81W",
        "outputId": "84043e92-449f-420c-96b9-17b5b8b2b717"
      },
      "execution_count": null,
      "outputs": [
        {
          "output_type": "execute_result",
          "data": {
            "text/plain": [
              "12"
            ]
          },
          "metadata": {},
          "execution_count": 168
        }
      ]
    },
    {
      "cell_type": "code",
      "source": [
        "df.count()"
      ],
      "metadata": {
        "colab": {
          "base_uri": "https://localhost:8080/"
        },
        "id": "hguMwxRki_rQ",
        "outputId": "e6721d47-1f14-4bec-e0df-ba401dab93c0"
      },
      "execution_count": null,
      "outputs": [
        {
          "output_type": "execute_result",
          "data": {
            "text/plain": [
              "918"
            ]
          },
          "metadata": {},
          "execution_count": 169
        }
      ]
    },
    {
      "cell_type": "markdown",
      "source": [
        "##Part04- Data Types | Create and Drop Columns"
      ],
      "metadata": {
        "id": "zZegBVPnzLWM"
      }
    },
    {
      "cell_type": "code",
      "source": [
        "df.dtypes"
      ],
      "metadata": {
        "colab": {
          "base_uri": "https://localhost:8080/"
        },
        "id": "FX-ucBJunxyF",
        "outputId": "3c317342-81db-447d-8e33-37aad4867f8b"
      },
      "execution_count": null,
      "outputs": [
        {
          "output_type": "execute_result",
          "data": {
            "text/plain": [
              "[('Age', 'int'),\n",
              " ('Sex', 'string'),\n",
              " ('ChestPainType', 'string'),\n",
              " ('RestingBP', 'int'),\n",
              " ('Cholesterol', 'int'),\n",
              " ('FastingBS', 'int'),\n",
              " ('RestingECG', 'string'),\n",
              " ('MaxHR', 'int'),\n",
              " ('ExerciseAngina', 'string'),\n",
              " ('Oldpeak', 'double'),\n",
              " ('ST_Slope', 'string'),\n",
              " ('HeartDisease', 'int')]"
            ]
          },
          "metadata": {},
          "execution_count": 170
        }
      ]
    },
    {
      "cell_type": "code",
      "source": [
        "### Check the schema\n",
        "df.printSchema()"
      ],
      "metadata": {
        "colab": {
          "base_uri": "https://localhost:8080/"
        },
        "id": "e_1o5cdEn2eQ",
        "outputId": "4fe26a80-7173-4069-8340-5b163e88ea3d"
      },
      "execution_count": null,
      "outputs": [
        {
          "output_type": "stream",
          "name": "stdout",
          "text": [
            "root\n",
            " |-- Age: integer (nullable = true)\n",
            " |-- Sex: string (nullable = true)\n",
            " |-- ChestPainType: string (nullable = true)\n",
            " |-- RestingBP: integer (nullable = true)\n",
            " |-- Cholesterol: integer (nullable = true)\n",
            " |-- FastingBS: integer (nullable = true)\n",
            " |-- RestingECG: string (nullable = true)\n",
            " |-- MaxHR: integer (nullable = true)\n",
            " |-- ExerciseAngina: string (nullable = true)\n",
            " |-- Oldpeak: double (nullable = true)\n",
            " |-- ST_Slope: string (nullable = true)\n",
            " |-- HeartDisease: integer (nullable = true)\n",
            "\n"
          ]
        }
      ]
    },
    {
      "cell_type": "code",
      "source": [
        "df.select('Age').show(3)"
      ],
      "metadata": {
        "colab": {
          "base_uri": "https://localhost:8080/"
        },
        "id": "Wx3yMl2epQyx",
        "outputId": "45b0e754-e538-4fe3-b878-1ec3967036bf"
      },
      "execution_count": null,
      "outputs": [
        {
          "output_type": "stream",
          "name": "stdout",
          "text": [
            "+---+\n",
            "|Age|\n",
            "+---+\n",
            "| 40|\n",
            "| 49|\n",
            "| 37|\n",
            "+---+\n",
            "only showing top 3 rows\n",
            "\n"
          ]
        }
      ]
    },
    {
      "cell_type": "code",
      "source": [
        "df.select(['Age', 'Sex']).show(3)"
      ],
      "metadata": {
        "colab": {
          "base_uri": "https://localhost:8080/"
        },
        "id": "0_aTXk2xpqpT",
        "outputId": "d056ca6b-d391-46d3-918a-f09c38d659ab"
      },
      "execution_count": null,
      "outputs": [
        {
          "output_type": "stream",
          "name": "stdout",
          "text": [
            "+---+---+\n",
            "|Age|Sex|\n",
            "+---+---+\n",
            "| 40|  M|\n",
            "| 49|  F|\n",
            "| 37|  M|\n",
            "+---+---+\n",
            "only showing top 3 rows\n",
            "\n"
          ]
        }
      ]
    },
    {
      "cell_type": "code",
      "source": [
        "### Adding Columns in data frame\n",
        "df=df.withColumn('Age 2023', df['Age']+2)"
      ],
      "metadata": {
        "id": "BzMwdqRnqQPG"
      },
      "execution_count": null,
      "outputs": []
    },
    {
      "cell_type": "code",
      "source": [
        "df.show(3)"
      ],
      "metadata": {
        "colab": {
          "base_uri": "https://localhost:8080/"
        },
        "id": "N5V9uGR2qgCb",
        "outputId": "ecc650e8-d79d-4555-9173-01f4ac8dfe75"
      },
      "execution_count": null,
      "outputs": [
        {
          "output_type": "stream",
          "name": "stdout",
          "text": [
            "+---+---+-------------+---------+-----------+---------+----------+-----+--------------+-------+--------+------------+--------+\n",
            "|Age|Sex|ChestPainType|RestingBP|Cholesterol|FastingBS|RestingECG|MaxHR|ExerciseAngina|Oldpeak|ST_Slope|HeartDisease|Age 2023|\n",
            "+---+---+-------------+---------+-----------+---------+----------+-----+--------------+-------+--------+------------+--------+\n",
            "| 40|  M|          ATA|      140|        289|        0|    Normal|  172|             N|    0.0|      Up|           0|      42|\n",
            "| 49|  F|          NAP|      160|        180|        0|    Normal|  156|             N|    1.0|    Flat|           1|      51|\n",
            "| 37|  M|          ATA|      130|        283|        0|        ST|   98|             N|    0.0|      Up|           0|      39|\n",
            "+---+---+-------------+---------+-----------+---------+----------+-----+--------------+-------+--------+------------+--------+\n",
            "only showing top 3 rows\n",
            "\n"
          ]
        }
      ]
    },
    {
      "cell_type": "code",
      "source": [
        "### Drop the columns\n",
        "df = df.drop('Age 2023')"
      ],
      "metadata": {
        "id": "_bIHdiqTqxt7"
      },
      "execution_count": null,
      "outputs": []
    },
    {
      "cell_type": "code",
      "source": [
        "df.show(3)"
      ],
      "metadata": {
        "colab": {
          "base_uri": "https://localhost:8080/"
        },
        "id": "pbAUIUOHq1Bz",
        "outputId": "6f92b753-6b33-4a11-f3e8-a3ef44582c07"
      },
      "execution_count": null,
      "outputs": [
        {
          "output_type": "stream",
          "name": "stdout",
          "text": [
            "+---+---+-------------+---------+-----------+---------+----------+-----+--------------+-------+--------+------------+\n",
            "|Age|Sex|ChestPainType|RestingBP|Cholesterol|FastingBS|RestingECG|MaxHR|ExerciseAngina|Oldpeak|ST_Slope|HeartDisease|\n",
            "+---+---+-------------+---------+-----------+---------+----------+-----+--------------+-------+--------+------------+\n",
            "| 40|  M|          ATA|      140|        289|        0|    Normal|  172|             N|    0.0|      Up|           0|\n",
            "| 49|  F|          NAP|      160|        180|        0|    Normal|  156|             N|    1.0|    Flat|           1|\n",
            "| 37|  M|          ATA|      130|        283|        0|        ST|   98|             N|    0.0|      Up|           0|\n",
            "+---+---+-------------+---------+-----------+---------+----------+-----+--------------+-------+--------+------------+\n",
            "only showing top 3 rows\n",
            "\n"
          ]
        }
      ]
    },
    {
      "cell_type": "code",
      "source": [
        "### Rename the columns\n",
        "df.withColumnRenamed('HeartDisease', 'stroke').show(3)"
      ],
      "metadata": {
        "colab": {
          "base_uri": "https://localhost:8080/"
        },
        "id": "FvPYJAVVrKBZ",
        "outputId": "059ce557-d40a-40c9-e7bd-8a8fb84f0102"
      },
      "execution_count": null,
      "outputs": [
        {
          "output_type": "stream",
          "name": "stdout",
          "text": [
            "+---+---+-------------+---------+-----------+---------+----------+-----+--------------+-------+--------+------+\n",
            "|Age|Sex|ChestPainType|RestingBP|Cholesterol|FastingBS|RestingECG|MaxHR|ExerciseAngina|Oldpeak|ST_Slope|stroke|\n",
            "+---+---+-------------+---------+-----------+---------+----------+-----+--------------+-------+--------+------+\n",
            "| 40|  M|          ATA|      140|        289|        0|    Normal|  172|             N|    0.0|      Up|     0|\n",
            "| 49|  F|          NAP|      160|        180|        0|    Normal|  156|             N|    1.0|    Flat|     1|\n",
            "| 37|  M|          ATA|      130|        283|        0|        ST|   98|             N|    0.0|      Up|     0|\n",
            "+---+---+-------------+---------+-----------+---------+----------+-----+--------------+-------+--------+------+\n",
            "only showing top 3 rows\n",
            "\n"
          ]
        }
      ]
    },
    {
      "cell_type": "code",
      "source": [
        "from pyspark.sql.types import FloatType, IntegerType, StringType, BooleanType, DoubleType\n",
        "df = df.withColumn('Age', df['Age'].cast(FloatType()))\n",
        "df.printSchema()"
      ],
      "metadata": {
        "colab": {
          "base_uri": "https://localhost:8080/"
        },
        "id": "vJ8w71we2Y1n",
        "outputId": "71cf4649-48f9-4340-b4da-2f2e1b99d4c3"
      },
      "execution_count": null,
      "outputs": [
        {
          "output_type": "stream",
          "name": "stdout",
          "text": [
            "root\n",
            " |-- Age: float (nullable = true)\n",
            " |-- Sex: string (nullable = true)\n",
            " |-- ChestPainType: string (nullable = true)\n",
            " |-- RestingBP: integer (nullable = true)\n",
            " |-- Cholesterol: integer (nullable = true)\n",
            " |-- FastingBS: integer (nullable = true)\n",
            " |-- RestingECG: string (nullable = true)\n",
            " |-- MaxHR: integer (nullable = true)\n",
            " |-- ExerciseAngina: string (nullable = true)\n",
            " |-- Oldpeak: double (nullable = true)\n",
            " |-- ST_Slope: string (nullable = true)\n",
            " |-- HeartDisease: integer (nullable = true)\n",
            "\n"
          ]
        }
      ]
    },
    {
      "cell_type": "markdown",
      "source": [
        "## Part05- Filtering Queries"
      ],
      "metadata": {
        "id": "bRuTRHh4zYYs"
      }
    },
    {
      "cell_type": "code",
      "source": [
        "### simple query\n",
        "df[df['Age']>65].show(3)"
      ],
      "metadata": {
        "colab": {
          "base_uri": "https://localhost:8080/"
        },
        "id": "ksLbaFk3rkov",
        "outputId": "e26b5db6-946a-4a83-dae2-608bc7107ff3"
      },
      "execution_count": null,
      "outputs": [
        {
          "output_type": "stream",
          "name": "stdout",
          "text": [
            "+----+---+-------------+---------+-----------+---------+----------+-----+--------------+-------+--------+------------+\n",
            "| Age|Sex|ChestPainType|RestingBP|Cholesterol|FastingBS|RestingECG|MaxHR|ExerciseAngina|Oldpeak|ST_Slope|HeartDisease|\n",
            "+----+---+-------------+---------+-----------+---------+----------+-----+--------------+-------+--------+------------+\n",
            "|66.0|  M|          ASY|      140|        139|        0|    Normal|   94|             Y|    1.0|    Flat|           1|\n",
            "|74.0|  M|          ATA|      145|          0|        1|        ST|  123|             N|    1.3|      Up|           1|\n",
            "|68.0|  M|          ASY|      145|          0|        1|    Normal|  136|             N|    1.8|      Up|           1|\n",
            "+----+---+-------------+---------+-----------+---------+----------+-----+--------------+-------+--------+------------+\n",
            "only showing top 3 rows\n",
            "\n"
          ]
        }
      ]
    },
    {
      "cell_type": "code",
      "source": [
        "df.filter('Age > 35').show(3)"
      ],
      "metadata": {
        "colab": {
          "base_uri": "https://localhost:8080/"
        },
        "id": "BklXZ2NIBO6Z",
        "outputId": "36621371-065d-4111-d53d-f02e1c9468f2"
      },
      "execution_count": null,
      "outputs": [
        {
          "output_type": "stream",
          "name": "stdout",
          "text": [
            "+----+---+-------------+---------+-----------+---------+----------+-----+--------------+-------+--------+------------+\n",
            "| Age|Sex|ChestPainType|RestingBP|Cholesterol|FastingBS|RestingECG|MaxHR|ExerciseAngina|Oldpeak|ST_Slope|HeartDisease|\n",
            "+----+---+-------------+---------+-----------+---------+----------+-----+--------------+-------+--------+------------+\n",
            "|40.0|  M|          ATA|      140|        289|        0|    Normal|  172|             N|    0.0|      Up|           0|\n",
            "|49.0|  F|          NAP|      160|        180|        0|    Normal|  156|             N|    1.0|    Flat|           1|\n",
            "|37.0|  M|          ATA|      130|        283|        0|        ST|   98|             N|    0.0|      Up|           0|\n",
            "+----+---+-------------+---------+-----------+---------+----------+-----+--------------+-------+--------+------------+\n",
            "only showing top 3 rows\n",
            "\n"
          ]
        }
      ]
    },
    {
      "cell_type": "code",
      "source": [
        "df.where('Age < 30').show(3)"
      ],
      "metadata": {
        "colab": {
          "base_uri": "https://localhost:8080/"
        },
        "id": "_PfH2bpxBiNn",
        "outputId": "9bbc7502-a141-4636-9c89-36e91a7d0be9"
      },
      "execution_count": null,
      "outputs": [
        {
          "output_type": "stream",
          "name": "stdout",
          "text": [
            "+----+---+-------------+---------+-----------+---------+----------+-----+--------------+-------+--------+------------+\n",
            "| Age|Sex|ChestPainType|RestingBP|Cholesterol|FastingBS|RestingECG|MaxHR|ExerciseAngina|Oldpeak|ST_Slope|HeartDisease|\n",
            "+----+---+-------------+---------+-----------+---------+----------+-----+--------------+-------+--------+------------+\n",
            "|29.0|  M|          ATA|      120|        243|        0|    Normal|  160|             N|    0.0|      Up|           0|\n",
            "|28.0|  M|          ATA|      130|        132|        0|       LVH|  185|             N|    0.0|      Up|           0|\n",
            "|29.0|  M|          ATA|      140|        263|        0|    Normal|  170|             N|    0.0|      Up|           0|\n",
            "+----+---+-------------+---------+-----------+---------+----------+-----+--------------+-------+--------+------------+\n",
            "only showing top 3 rows\n",
            "\n"
          ]
        }
      ]
    },
    {
      "cell_type": "code",
      "source": [
        "df.where((df['Age']>60) & (df['Sex']=='F')).show(3)"
      ],
      "metadata": {
        "colab": {
          "base_uri": "https://localhost:8080/"
        },
        "id": "H43gl0ilB6oi",
        "outputId": "bdef8102-ff3c-4363-daaf-b285969d98a4"
      },
      "execution_count": null,
      "outputs": [
        {
          "output_type": "stream",
          "name": "stdout",
          "text": [
            "+----+---+-------------+---------+-----------+---------+----------+-----+--------------+-------+--------+------------+\n",
            "| Age|Sex|ChestPainType|RestingBP|Cholesterol|FastingBS|RestingECG|MaxHR|ExerciseAngina|Oldpeak|ST_Slope|HeartDisease|\n",
            "+----+---+-------------+---------+-----------+---------+----------+-----+--------------+-------+--------+------------+\n",
            "|61.0|  F|          ASY|      130|        294|        0|        ST|  120|             Y|    1.0|    Flat|           0|\n",
            "|62.0|  F|           TA|      160|        193|        0|    Normal|  116|             N|    0.0|      Up|           0|\n",
            "|62.0|  F|          ASY|      120|          0|        1|        ST|  123|             Y|    1.7|    Down|           1|\n",
            "+----+---+-------------+---------+-----------+---------+----------+-----+--------------+-------+--------+------------+\n",
            "only showing top 3 rows\n",
            "\n"
          ]
        }
      ]
    },
    {
      "cell_type": "markdown",
      "source": [
        "## Part06 - Missing values handling"
      ],
      "metadata": {
        "id": "2cRU95cg8C9j"
      }
    },
    {
      "cell_type": "code",
      "source": [
        "data = [\n",
        "    (\"James\",None,\"M\", 1),\n",
        "    (\"Anna\",\"NY\",\"F\", 0),\n",
        "    (\"Julia\",None,None, 1),\n",
        "    (None,\"LA\",\"M\", None),\n",
        "    (None,None,None, None),\n",
        "    (\"Reza\",None,\"M\", None)\n",
        "  ]\n",
        "columns = [\"name\",\"state\",\"gender\", \"mariage\"]"
      ],
      "metadata": {
        "id": "kqQmjmfI8H1d"
      },
      "execution_count": null,
      "outputs": []
    },
    {
      "cell_type": "code",
      "source": [
        "df_temp = spark.createDataFrame(data, columns)\n",
        "df_temp.show()"
      ],
      "metadata": {
        "colab": {
          "base_uri": "https://localhost:8080/"
        },
        "id": "JGB-tv4KCk3M",
        "outputId": "d66ec3a1-910b-44ad-fcf4-2dea47a872df"
      },
      "execution_count": null,
      "outputs": [
        {
          "output_type": "stream",
          "name": "stdout",
          "text": [
            "+-----+-----+------+-------+\n",
            "| name|state|gender|mariage|\n",
            "+-----+-----+------+-------+\n",
            "|James| null|     M|      1|\n",
            "| Anna|   NY|     F|      0|\n",
            "|Julia| null|  null|      1|\n",
            "| null|   LA|     M|   null|\n",
            "| null| null|  null|   null|\n",
            "| Reza| null|     M|   null|\n",
            "+-----+-----+------+-------+\n",
            "\n"
          ]
        }
      ]
    },
    {
      "cell_type": "code",
      "source": [
        "df_temp.na.drop().show() #defualt how='any'"
      ],
      "metadata": {
        "colab": {
          "base_uri": "https://localhost:8080/"
        },
        "id": "UEdrjrVWCyuK",
        "outputId": "1f61fff6-df91-4795-c0ba-ca59eec44a11"
      },
      "execution_count": null,
      "outputs": [
        {
          "output_type": "stream",
          "name": "stdout",
          "text": [
            "+----+-----+------+-------+\n",
            "|name|state|gender|mariage|\n",
            "+----+-----+------+-------+\n",
            "|Anna|   NY|     F|      0|\n",
            "+----+-----+------+-------+\n",
            "\n"
          ]
        }
      ]
    },
    {
      "cell_type": "code",
      "source": [
        "df_temp.na.drop(how='all').show()"
      ],
      "metadata": {
        "colab": {
          "base_uri": "https://localhost:8080/"
        },
        "id": "xPvS3_dNDEUR",
        "outputId": "814a8e2b-d871-45ef-bb75-9538cd611a1e"
      },
      "execution_count": null,
      "outputs": [
        {
          "output_type": "stream",
          "name": "stdout",
          "text": [
            "+-----+-----+------+-------+\n",
            "| name|state|gender|mariage|\n",
            "+-----+-----+------+-------+\n",
            "|James| null|     M|      1|\n",
            "| Anna|   NY|     F|      0|\n",
            "|Julia| null|  null|      1|\n",
            "| null|   LA|     M|   null|\n",
            "| Reza| null|     M|   null|\n",
            "+-----+-----+------+-------+\n",
            "\n"
          ]
        }
      ]
    },
    {
      "cell_type": "code",
      "source": [
        "df_temp.na.drop(thresh=3).show()"
      ],
      "metadata": {
        "colab": {
          "base_uri": "https://localhost:8080/"
        },
        "id": "lAVtpsK8DQck",
        "outputId": "a07c9ef2-90c6-4006-cc27-1cc94305c4a6"
      },
      "execution_count": null,
      "outputs": [
        {
          "output_type": "stream",
          "name": "stdout",
          "text": [
            "+-----+-----+------+-------+\n",
            "| name|state|gender|mariage|\n",
            "+-----+-----+------+-------+\n",
            "|James| null|     M|      1|\n",
            "| Anna|   NY|     F|      0|\n",
            "+-----+-----+------+-------+\n",
            "\n"
          ]
        }
      ]
    },
    {
      "cell_type": "code",
      "source": [
        "df_temp.na.fill(value='?', subset=['state', 'name']).show()"
      ],
      "metadata": {
        "colab": {
          "base_uri": "https://localhost:8080/"
        },
        "id": "VClQvV3MGzmX",
        "outputId": "dcf24186-14b3-467c-9e36-e5d119e8cfcf"
      },
      "execution_count": null,
      "outputs": [
        {
          "output_type": "stream",
          "name": "stdout",
          "text": [
            "+-----+-----+------+-------+\n",
            "| name|state|gender|mariage|\n",
            "+-----+-----+------+-------+\n",
            "|James|    ?|     M|      1|\n",
            "| Anna|   NY|     F|      0|\n",
            "|Julia|    ?|  null|      1|\n",
            "|    ?|   LA|     M|   null|\n",
            "|    ?|    ?|  null|   null|\n",
            "| Reza|    ?|     M|   null|\n",
            "+-----+-----+------+-------+\n",
            "\n"
          ]
        }
      ]
    },
    {
      "cell_type": "code",
      "source": [
        "from pyspark.ml.feature import Imputer\n",
        "imputer = Imputer(inputCol='mariage',\n",
        "                  outputCol='mariage').setStrategy('mode')\n",
        "imputer.fit(df_temp).transform(df_temp).show()"
      ],
      "metadata": {
        "colab": {
          "base_uri": "https://localhost:8080/"
        },
        "id": "7Sg_-WjeHKNx",
        "outputId": "d69d581f-3c6f-4dce-dd24-8e4fe38a76f8"
      },
      "execution_count": null,
      "outputs": [
        {
          "output_type": "stream",
          "name": "stdout",
          "text": [
            "+-----+-----+------+-------+\n",
            "| name|state|gender|mariage|\n",
            "+-----+-----+------+-------+\n",
            "|James| null|     M|      1|\n",
            "| Anna|   NY|     F|      0|\n",
            "|Julia| null|  null|      1|\n",
            "| null|   LA|     M|      1|\n",
            "| null| null|  null|      1|\n",
            "| Reza| null|     M|      1|\n",
            "+-----+-----+------+-------+\n",
            "\n"
          ]
        }
      ]
    },
    {
      "cell_type": "markdown",
      "source": [
        "## Part 07 - groupBy | orderBy"
      ],
      "metadata": {
        "id": "LPTJZwRnzkFa"
      }
    },
    {
      "cell_type": "code",
      "source": [
        "df.show(5)"
      ],
      "metadata": {
        "colab": {
          "base_uri": "https://localhost:8080/"
        },
        "id": "swTF6DrJ0ylH",
        "outputId": "8828d0d7-76f1-4c6f-aae7-86ae76433777"
      },
      "execution_count": null,
      "outputs": [
        {
          "output_type": "stream",
          "name": "stdout",
          "text": [
            "+----+---+-------------+---------+-----------+---------+----------+-----+--------------+-------+--------+------------+\n",
            "| Age|Sex|ChestPainType|RestingBP|Cholesterol|FastingBS|RestingECG|MaxHR|ExerciseAngina|Oldpeak|ST_Slope|HeartDisease|\n",
            "+----+---+-------------+---------+-----------+---------+----------+-----+--------------+-------+--------+------------+\n",
            "|40.0|  M|          ATA|      140|        289|        0|    Normal|  172|             N|    0.0|      Up|           0|\n",
            "|49.0|  F|          NAP|      160|        180|        0|    Normal|  156|             N|    1.0|    Flat|           1|\n",
            "|37.0|  M|          ATA|      130|        283|        0|        ST|   98|             N|    0.0|      Up|           0|\n",
            "|48.0|  F|          ASY|      138|        214|        0|    Normal|  108|             Y|    1.5|    Flat|           1|\n",
            "|54.0|  M|          NAP|      150|        195|        0|    Normal|  122|             N|    0.0|      Up|           0|\n",
            "+----+---+-------------+---------+-----------+---------+----------+-----+--------------+-------+--------+------------+\n",
            "only showing top 5 rows\n",
            "\n"
          ]
        }
      ]
    },
    {
      "cell_type": "code",
      "source": [
        "df.groupBy('Age').count().show(10)"
      ],
      "metadata": {
        "colab": {
          "base_uri": "https://localhost:8080/"
        },
        "id": "dFEorOWA08-2",
        "outputId": "c65249ee-fc2e-4e9b-e829-fa33fcd1377a"
      },
      "execution_count": null,
      "outputs": [
        {
          "output_type": "stream",
          "name": "stdout",
          "text": [
            "+----+-----+\n",
            "| Age|count|\n",
            "+----+-----+\n",
            "|64.0|   22|\n",
            "|47.0|   19|\n",
            "|58.0|   42|\n",
            "|39.0|   15|\n",
            "|30.0|    1|\n",
            "|41.0|   24|\n",
            "|29.0|    3|\n",
            "|67.0|   15|\n",
            "|49.0|   21|\n",
            "|56.0|   38|\n",
            "+----+-----+\n",
            "only showing top 10 rows\n",
            "\n"
          ]
        }
      ]
    },
    {
      "cell_type": "code",
      "source": [
        "df.groupBy('Sex').count().show()"
      ],
      "metadata": {
        "colab": {
          "base_uri": "https://localhost:8080/"
        },
        "id": "vcOyxW9R1Lgo",
        "outputId": "3b8f4f0b-cf08-4152-ebe6-f0d1a2853451"
      },
      "execution_count": null,
      "outputs": [
        {
          "output_type": "stream",
          "name": "stdout",
          "text": [
            "+---+-----+\n",
            "|Sex|count|\n",
            "+---+-----+\n",
            "|  F|  193|\n",
            "|  M|  725|\n",
            "+---+-----+\n",
            "\n"
          ]
        }
      ]
    },
    {
      "cell_type": "code",
      "source": [
        "df.groupBy(['Age', 'Sex']).count().orderBy('Age').show(5)"
      ],
      "metadata": {
        "colab": {
          "base_uri": "https://localhost:8080/"
        },
        "id": "MbS3ImxZYlgq",
        "outputId": "a0c94908-88dd-46be-da41-84f1abdba28e"
      },
      "execution_count": null,
      "outputs": [
        {
          "output_type": "stream",
          "name": "stdout",
          "text": [
            "+---+---+-----+\n",
            "|Age|Sex|count|\n",
            "+---+---+-----+\n",
            "| 28|  M|    1|\n",
            "| 29|  M|    3|\n",
            "| 30|  F|    1|\n",
            "| 31|  F|    1|\n",
            "| 31|  M|    1|\n",
            "+---+---+-----+\n",
            "only showing top 5 rows\n",
            "\n"
          ]
        }
      ]
    },
    {
      "cell_type": "code",
      "source": [
        "# pivot\n",
        "df.groupBy('Age').pivot('Sex', ('M', 'F')).count().show(5)"
      ],
      "metadata": {
        "colab": {
          "base_uri": "https://localhost:8080/"
        },
        "id": "zd4pH_EIZC7G",
        "outputId": "da38c0d9-1f9b-425e-e5cc-ea83a7bababb"
      },
      "execution_count": null,
      "outputs": [
        {
          "output_type": "stream",
          "name": "stdout",
          "text": [
            "+---+---+----+\n",
            "|Age|  M|   F|\n",
            "+---+---+----+\n",
            "| 31|  1|   1|\n",
            "| 65| 17|   4|\n",
            "| 53| 27|   6|\n",
            "| 34|  5|   2|\n",
            "| 28|  1|null|\n",
            "+---+---+----+\n",
            "only showing top 5 rows\n",
            "\n"
          ]
        }
      ]
    },
    {
      "cell_type": "code",
      "source": [
        "df.groupBy('Age').count().orderBy('count').show(10)"
      ],
      "metadata": {
        "colab": {
          "base_uri": "https://localhost:8080/"
        },
        "id": "3mHKawTj17bE",
        "outputId": "a1478771-91cb-4394-8936-41418a5c04bb"
      },
      "execution_count": null,
      "outputs": [
        {
          "output_type": "stream",
          "name": "stdout",
          "text": [
            "+----+-----+\n",
            "| Age|count|\n",
            "+----+-----+\n",
            "|30.0|    1|\n",
            "|73.0|    1|\n",
            "|28.0|    1|\n",
            "|77.0|    2|\n",
            "|76.0|    2|\n",
            "|33.0|    2|\n",
            "|31.0|    2|\n",
            "|29.0|    3|\n",
            "|75.0|    3|\n",
            "|72.0|    4|\n",
            "+----+-----+\n",
            "only showing top 10 rows\n",
            "\n"
          ]
        }
      ]
    },
    {
      "cell_type": "code",
      "source": [
        "from pyspark.sql.functions import desc, asc\n",
        "df.groupBy('Age').count().orderBy(asc('count')).show(10)"
      ],
      "metadata": {
        "colab": {
          "base_uri": "https://localhost:8080/"
        },
        "id": "-63Ai4Zt1Qio",
        "outputId": "c6e34017-1fb8-4aa2-aa1d-ced2100493fe"
      },
      "execution_count": null,
      "outputs": [
        {
          "output_type": "stream",
          "name": "stdout",
          "text": [
            "+----+-----+\n",
            "| Age|count|\n",
            "+----+-----+\n",
            "|30.0|    1|\n",
            "|73.0|    1|\n",
            "|28.0|    1|\n",
            "|77.0|    2|\n",
            "|76.0|    2|\n",
            "|33.0|    2|\n",
            "|31.0|    2|\n",
            "|29.0|    3|\n",
            "|75.0|    3|\n",
            "|72.0|    4|\n",
            "+----+-----+\n",
            "only showing top 10 rows\n",
            "\n"
          ]
        }
      ]
    },
    {
      "cell_type": "code",
      "source": [
        "df.groupBy('Age').count().orderBy(desc('Age')).show(10)"
      ],
      "metadata": {
        "colab": {
          "base_uri": "https://localhost:8080/"
        },
        "id": "ehLqFQ7e2BBp",
        "outputId": "6989f8c8-070d-48b8-8186-08229b71a9cd"
      },
      "execution_count": null,
      "outputs": [
        {
          "output_type": "stream",
          "name": "stdout",
          "text": [
            "+----+-----+\n",
            "| Age|count|\n",
            "+----+-----+\n",
            "|77.0|    2|\n",
            "|76.0|    2|\n",
            "|75.0|    3|\n",
            "|74.0|    7|\n",
            "|73.0|    1|\n",
            "|72.0|    4|\n",
            "|71.0|    5|\n",
            "|70.0|    7|\n",
            "|69.0|   13|\n",
            "|68.0|   10|\n",
            "+----+-----+\n",
            "only showing top 10 rows\n",
            "\n"
          ]
        }
      ]
    },
    {
      "cell_type": "code",
      "source": [
        "from pyspark.sql.functions import min, max, avg\n",
        "df.groupBy('HeartDisease').agg(max('Cholesterol')).show(5)"
      ],
      "metadata": {
        "colab": {
          "base_uri": "https://localhost:8080/"
        },
        "id": "ga91Gi9I2NGd",
        "outputId": "d072852d-3b36-4927-f19f-945f2c7329d0"
      },
      "execution_count": null,
      "outputs": [
        {
          "output_type": "stream",
          "name": "stdout",
          "text": [
            "+------------+----------------+\n",
            "|HeartDisease|max(Cholesterol)|\n",
            "+------------+----------------+\n",
            "|           1|             603|\n",
            "|           0|             564|\n",
            "+------------+----------------+\n",
            "\n"
          ]
        }
      ]
    },
    {
      "cell_type": "code",
      "source": [
        "df.groupBy('HeartDisease').agg(avg('Cholesterol')).show(5)"
      ],
      "metadata": {
        "colab": {
          "base_uri": "https://localhost:8080/"
        },
        "id": "ffSGlEk02zZV",
        "outputId": "9e4c1e76-3af7-4a0a-93fe-bf30c09ec008"
      },
      "execution_count": null,
      "outputs": [
        {
          "output_type": "stream",
          "name": "stdout",
          "text": [
            "+------------+------------------+\n",
            "|HeartDisease|  avg(Cholesterol)|\n",
            "+------------+------------------+\n",
            "|           1|175.94094488188978|\n",
            "|           0| 227.1219512195122|\n",
            "+------------+------------------+\n",
            "\n"
          ]
        }
      ]
    },
    {
      "cell_type": "code",
      "source": [
        "df.groupBy('HeartDisease').agg(max('Cholesterol'), avg('Cholesterol')).show(5)"
      ],
      "metadata": {
        "colab": {
          "base_uri": "https://localhost:8080/"
        },
        "id": "srJUnJ0p21UF",
        "outputId": "9a1f0745-5a53-4b41-d86c-314588339fb1"
      },
      "execution_count": null,
      "outputs": [
        {
          "output_type": "stream",
          "name": "stdout",
          "text": [
            "+------------+----------------+------------------+\n",
            "|HeartDisease|max(Cholesterol)|  avg(Cholesterol)|\n",
            "+------------+----------------+------------------+\n",
            "|           1|             603|175.94094488188978|\n",
            "|           0|             564| 227.1219512195122|\n",
            "+------------+----------------+------------------+\n",
            "\n"
          ]
        }
      ]
    },
    {
      "cell_type": "markdown",
      "source": [
        "## Part 08 - MLlib | Regression"
      ],
      "metadata": {
        "id": "8-9UVDG240er"
      }
    },
    {
      "cell_type": "code",
      "source": [
        "df.show(5)"
      ],
      "metadata": {
        "colab": {
          "base_uri": "https://localhost:8080/"
        },
        "id": "EXOiB_UTG4W3",
        "outputId": "a2f79e1d-b6a6-4548-d850-607261b716d2"
      },
      "execution_count": null,
      "outputs": [
        {
          "output_type": "stream",
          "name": "stdout",
          "text": [
            "+----+---+-------------+---------+-----------+---------+----------+-----+--------------+-------+--------+------------+------------------+\n",
            "| Age|Sex|ChestPainType|RestingBP|Cholesterol|FastingBS|RestingECG|MaxHR|ExerciseAngina|Oldpeak|ST_Slope|HeartDisease|          feat_vec|\n",
            "+----+---+-------------+---------+-----------+---------+----------+-----+--------------+-------+--------+------------+------------------+\n",
            "|40.0|  M|          ATA|      140|        289|        0|    Normal|  172|             N|    0.0|      Up|           0|[40.0,140.0,289.0]|\n",
            "|49.0|  F|          NAP|      160|        180|        0|    Normal|  156|             N|    1.0|    Flat|           1|[49.0,160.0,180.0]|\n",
            "|37.0|  M|          ATA|      130|        283|        0|        ST|   98|             N|    0.0|      Up|           0|[37.0,130.0,283.0]|\n",
            "|48.0|  F|          ASY|      138|        214|        0|    Normal|  108|             Y|    1.5|    Flat|           1|[48.0,138.0,214.0]|\n",
            "|54.0|  M|          NAP|      150|        195|        0|    Normal|  122|             N|    0.0|      Up|           0|[54.0,150.0,195.0]|\n",
            "+----+---+-------------+---------+-----------+---------+----------+-----+--------------+-------+--------+------------+------------------+\n",
            "only showing top 5 rows\n",
            "\n"
          ]
        }
      ]
    },
    {
      "cell_type": "code",
      "source": [
        "X_cols = ['Age', 'RestingBP', 'Cholesterol']\n",
        "target_col = ['MaxHR']\n",
        "my_cols = df['Age', 'RestingBP', 'Cholesterol', 'MaxHR']"
      ],
      "metadata": {
        "id": "GLlZgXmCG-_0"
      },
      "execution_count": null,
      "outputs": []
    },
    {
      "cell_type": "code",
      "source": [
        "from pyspark.ml.feature import VectorAssembler\n",
        "VA = VectorAssembler(inputCols=X_cols, outputCol='feat_vec')\n",
        "df = VA.transform(df)\n",
        "data = df.select(['Age', 'RestingBP', 'Cholesterol', 'feat_vec', 'MaxHR'])"
      ],
      "metadata": {
        "id": "bzqQqNabHZ0D"
      },
      "execution_count": null,
      "outputs": []
    },
    {
      "cell_type": "code",
      "source": [
        "trainset, testset = data.randomSplit([0.75, 0.25])"
      ],
      "metadata": {
        "id": "xTWKDhftIE3s"
      },
      "execution_count": null,
      "outputs": []
    },
    {
      "cell_type": "code",
      "source": [
        "from pyspark.ml.regression import LinearRegression\n",
        "LR = LinearRegression(featuresCol='feat_vec', labelCol='MaxHR')"
      ],
      "metadata": {
        "id": "UT6m4B6RHU0r"
      },
      "execution_count": null,
      "outputs": []
    },
    {
      "cell_type": "code",
      "source": [
        "# train the model\n",
        "LR = LR.fit(trainset)"
      ],
      "metadata": {
        "id": "1o5pVUb7I8pd"
      },
      "execution_count": null,
      "outputs": []
    },
    {
      "cell_type": "code",
      "source": [
        "LR.coefficients"
      ],
      "metadata": {
        "colab": {
          "base_uri": "https://localhost:8080/"
        },
        "id": "o-3PGqlGJBjc",
        "outputId": "60ac38fd-9579-4d1b-8e87-5ee220b593c4"
      },
      "execution_count": null,
      "outputs": [
        {
          "output_type": "execute_result",
          "data": {
            "text/plain": [
              "DenseVector([-0.9729, -0.0339, 0.0382])"
            ]
          },
          "metadata": {},
          "execution_count": 232
        }
      ]
    },
    {
      "cell_type": "code",
      "source": [
        "pred = LR.transform(testset)"
      ],
      "metadata": {
        "id": "SRG_h2m9JOES"
      },
      "execution_count": null,
      "outputs": []
    },
    {
      "cell_type": "code",
      "source": [
        "pred = LR.evaluate(testset)"
      ],
      "metadata": {
        "id": "5XWWEyDMJVPs"
      },
      "execution_count": null,
      "outputs": []
    },
    {
      "cell_type": "code",
      "source": [
        "pred.r2"
      ],
      "metadata": {
        "colab": {
          "base_uri": "https://localhost:8080/"
        },
        "id": "gNfTH1sCJTd9",
        "outputId": "712d5c0d-9bc7-4346-cab8-6fd731b3e5d0"
      },
      "execution_count": null,
      "outputs": [
        {
          "output_type": "execute_result",
          "data": {
            "text/plain": [
              "0.19543698766778028"
            ]
          },
          "metadata": {},
          "execution_count": 236
        }
      ]
    },
    {
      "cell_type": "code",
      "source": [
        "pred.meanSquaredError"
      ],
      "metadata": {
        "colab": {
          "base_uri": "https://localhost:8080/"
        },
        "id": "JrGRpt5FJbg9",
        "outputId": "4103f036-1b7a-4869-bf6b-d9ee6b88c98f"
      },
      "execution_count": null,
      "outputs": [
        {
          "output_type": "execute_result",
          "data": {
            "text/plain": [
              "536.4682135181364"
            ]
          },
          "metadata": {},
          "execution_count": 237
        }
      ]
    },
    {
      "cell_type": "code",
      "source": [
        "pred.meanAbsoluteError"
      ],
      "metadata": {
        "colab": {
          "base_uri": "https://localhost:8080/"
        },
        "id": "A4ZsOsRTJdQH",
        "outputId": "b51d5161-df75-4b38-8399-17b5821ee766"
      },
      "execution_count": null,
      "outputs": [
        {
          "output_type": "execute_result",
          "data": {
            "text/plain": [
              "19.13756656234133"
            ]
          },
          "metadata": {},
          "execution_count": 239
        }
      ]
    },
    {
      "cell_type": "markdown",
      "source": [
        "## Part 09 - MLlib | Classification"
      ],
      "metadata": {
        "id": "ARp-I7EINLE2"
      }
    },
    {
      "cell_type": "code",
      "source": [
        "df.show(5)"
      ],
      "metadata": {
        "colab": {
          "base_uri": "https://localhost:8080/"
        },
        "id": "n7QMP1g0JhUy",
        "outputId": "d9786f72-cd3d-47b0-f474-994457a49291"
      },
      "execution_count": null,
      "outputs": [
        {
          "output_type": "stream",
          "name": "stdout",
          "text": [
            "+---+---+-------------+---------+-----------+---------+----------+-----+--------------+-------+--------+------------+\n",
            "|Age|Sex|ChestPainType|RestingBP|Cholesterol|FastingBS|RestingECG|MaxHR|ExerciseAngina|Oldpeak|ST_Slope|HeartDisease|\n",
            "+---+---+-------------+---------+-----------+---------+----------+-----+--------------+-------+--------+------------+\n",
            "| 40|  M|          ATA|      140|        289|        0|    Normal|  172|             N|    0.0|      Up|           0|\n",
            "| 49|  F|          NAP|      160|        180|        0|    Normal|  156|             N|    1.0|    Flat|           1|\n",
            "| 37|  M|          ATA|      130|        283|        0|        ST|   98|             N|    0.0|      Up|           0|\n",
            "| 48|  F|          ASY|      138|        214|        0|    Normal|  108|             Y|    1.5|    Flat|           1|\n",
            "| 54|  M|          NAP|      150|        195|        0|    Normal|  122|             N|    0.0|      Up|           0|\n",
            "+---+---+-------------+---------+-----------+---------+----------+-----+--------------+-------+--------+------------+\n",
            "only showing top 5 rows\n",
            "\n"
          ]
        }
      ]
    },
    {
      "cell_type": "code",
      "source": [
        "df = df.drop('feat_vec')"
      ],
      "metadata": {
        "id": "u5tlIF24N2rr"
      },
      "execution_count": null,
      "outputs": []
    },
    {
      "cell_type": "code",
      "source": [
        "df.show(5)"
      ],
      "metadata": {
        "colab": {
          "base_uri": "https://localhost:8080/"
        },
        "id": "6Aup2q1tN5iS",
        "outputId": "673048b1-df77-42e3-a05b-fe9dd6b37b9d"
      },
      "execution_count": null,
      "outputs": [
        {
          "output_type": "stream",
          "name": "stdout",
          "text": [
            "+---+---+-------------+---------+-----------+---------+----------+-----+--------------+-------+--------+------------+\n",
            "|Age|Sex|ChestPainType|RestingBP|Cholesterol|FastingBS|RestingECG|MaxHR|ExerciseAngina|Oldpeak|ST_Slope|HeartDisease|\n",
            "+---+---+-------------+---------+-----------+---------+----------+-----+--------------+-------+--------+------------+\n",
            "| 40|  M|          ATA|      140|        289|        0|    Normal|  172|             N|    0.0|      Up|           0|\n",
            "| 49|  F|          NAP|      160|        180|        0|    Normal|  156|             N|    1.0|    Flat|           1|\n",
            "| 37|  M|          ATA|      130|        283|        0|        ST|   98|             N|    0.0|      Up|           0|\n",
            "| 48|  F|          ASY|      138|        214|        0|    Normal|  108|             Y|    1.5|    Flat|           1|\n",
            "| 54|  M|          NAP|      150|        195|        0|    Normal|  122|             N|    0.0|      Up|           0|\n",
            "+---+---+-------------+---------+-----------+---------+----------+-----+--------------+-------+--------+------------+\n",
            "only showing top 5 rows\n",
            "\n"
          ]
        }
      ]
    },
    {
      "cell_type": "code",
      "source": [
        "X_cols = ['Age', 'RestingBP', 'Cholesterol', 'MaxHR']\n",
        "target_col = ['HeartDisease']\n",
        "my_col = ['Age', 'RestingBP', 'Cholesterol', 'MaxHR', 'HeartDisease']"
      ],
      "metadata": {
        "id": "F6IT1b9QNxfN"
      },
      "execution_count": null,
      "outputs": []
    },
    {
      "cell_type": "code",
      "source": [
        "VA = VectorAssembler(inputCols=X_cols, outputCol='feature_vector')\n",
        "df = VA.transform(df)\n",
        "df.show(5)"
      ],
      "metadata": {
        "colab": {
          "base_uri": "https://localhost:8080/"
        },
        "id": "A6eloKEfOULA",
        "outputId": "08f61bb7-f3ad-4f94-8680-b377e6fcd2d0"
      },
      "execution_count": null,
      "outputs": [
        {
          "output_type": "stream",
          "name": "stdout",
          "text": [
            "+---+---+-------------+---------+-----------+---------+----------+-----+--------------+-------+--------+------------+--------------------+\n",
            "|Age|Sex|ChestPainType|RestingBP|Cholesterol|FastingBS|RestingECG|MaxHR|ExerciseAngina|Oldpeak|ST_Slope|HeartDisease|      feature_vector|\n",
            "+---+---+-------------+---------+-----------+---------+----------+-----+--------------+-------+--------+------------+--------------------+\n",
            "| 40|  M|          ATA|      140|        289|        0|    Normal|  172|             N|    0.0|      Up|           0|[40.0,140.0,289.0...|\n",
            "| 49|  F|          NAP|      160|        180|        0|    Normal|  156|             N|    1.0|    Flat|           1|[49.0,160.0,180.0...|\n",
            "| 37|  M|          ATA|      130|        283|        0|        ST|   98|             N|    0.0|      Up|           0|[37.0,130.0,283.0...|\n",
            "| 48|  F|          ASY|      138|        214|        0|    Normal|  108|             Y|    1.5|    Flat|           1|[48.0,138.0,214.0...|\n",
            "| 54|  M|          NAP|      150|        195|        0|    Normal|  122|             N|    0.0|      Up|           0|[54.0,150.0,195.0...|\n",
            "+---+---+-------------+---------+-----------+---------+----------+-----+--------------+-------+--------+------------+--------------------+\n",
            "only showing top 5 rows\n",
            "\n"
          ]
        }
      ]
    },
    {
      "cell_type": "code",
      "source": [
        "data = df.select(['feature_vector', 'HeartDisease'])\n",
        "data.show(5)"
      ],
      "metadata": {
        "colab": {
          "base_uri": "https://localhost:8080/"
        },
        "id": "gnWMeH-ZOpVQ",
        "outputId": "1d6c6e26-7108-4dec-e08e-dac4dcc373a6"
      },
      "execution_count": null,
      "outputs": [
        {
          "output_type": "stream",
          "name": "stdout",
          "text": [
            "+--------------------+------------+\n",
            "|      feature_vector|HeartDisease|\n",
            "+--------------------+------------+\n",
            "|[40.0,140.0,289.0...|           0|\n",
            "|[49.0,160.0,180.0...|           1|\n",
            "|[37.0,130.0,283.0...|           0|\n",
            "|[48.0,138.0,214.0...|           1|\n",
            "|[54.0,150.0,195.0...|           0|\n",
            "+--------------------+------------+\n",
            "only showing top 5 rows\n",
            "\n"
          ]
        }
      ]
    },
    {
      "cell_type": "code",
      "source": [
        "trainset, testset = data.randomSplit([0.75, 0.25])"
      ],
      "metadata": {
        "id": "HeJuC2BBO32F"
      },
      "execution_count": null,
      "outputs": []
    },
    {
      "cell_type": "code",
      "source": [
        "from pyspark.ml.classification import RandomForestClassifier, LogisticRegression"
      ],
      "metadata": {
        "id": "pXnK-ks6PAxa"
      },
      "execution_count": null,
      "outputs": []
    },
    {
      "cell_type": "code",
      "source": [
        "RFC = RandomForestClassifier(featuresCol='feature_vector', labelCol='HeartDisease')\n",
        "LRC = LogisticRegression(featuresCol='feature_vector', labelCol='HeartDisease')"
      ],
      "metadata": {
        "id": "lSByYJcRPJfU"
      },
      "execution_count": null,
      "outputs": []
    },
    {
      "cell_type": "code",
      "source": [
        "RFC = RFC.fit(trainset)\n",
        "LRC = LRC.fit(trainset)"
      ],
      "metadata": {
        "id": "Y4_r1VPRPbfN"
      },
      "execution_count": null,
      "outputs": []
    },
    {
      "cell_type": "code",
      "source": [
        "rf_pred = RFC.transform(testset)\n",
        "lr_pred = LRC.transform(testset)"
      ],
      "metadata": {
        "id": "K8GGsJEpPjYh"
      },
      "execution_count": null,
      "outputs": []
    },
    {
      "cell_type": "code",
      "source": [
        "from pyspark.ml.evaluation import BinaryClassificationEvaluator\n",
        "eval = BinaryClassificationEvaluator(labelCol='HeartDisease')"
      ],
      "metadata": {
        "id": "uGxYdxvmP79t"
      },
      "execution_count": null,
      "outputs": []
    },
    {
      "cell_type": "code",
      "source": [
        "rf_auc = eval.evaluate(rf_pred)\n",
        "lr_auc = eval.evaluate(lr_pred)"
      ],
      "metadata": {
        "id": "n8zkVymeQSfo"
      },
      "execution_count": null,
      "outputs": []
    },
    {
      "cell_type": "code",
      "source": [
        "rf_auc"
      ],
      "metadata": {
        "colab": {
          "base_uri": "https://localhost:8080/"
        },
        "id": "p0uJ0becQfQd",
        "outputId": "ef95cada-d7da-4a20-a74e-f6c02ffe5580"
      },
      "execution_count": null,
      "outputs": [
        {
          "output_type": "execute_result",
          "data": {
            "text/plain": [
              "0.7837262834821432"
            ]
          },
          "metadata": {},
          "execution_count": 294
        }
      ]
    },
    {
      "cell_type": "code",
      "source": [
        "lr_auc"
      ],
      "metadata": {
        "colab": {
          "base_uri": "https://localhost:8080/"
        },
        "id": "x2dPzlVOQit2",
        "outputId": "a6c32ddd-e3be-4d1f-fd3a-f3abef688c98"
      },
      "execution_count": null,
      "outputs": [
        {
          "output_type": "execute_result",
          "data": {
            "text/plain": [
              "0.7488141741071432"
            ]
          },
          "metadata": {},
          "execution_count": 295
        }
      ]
    },
    {
      "cell_type": "markdown",
      "source": [
        "## Part 10 - Categorical ---> Numeric"
      ],
      "metadata": {
        "id": "jxMko7lsTkmZ"
      }
    },
    {
      "cell_type": "code",
      "source": [
        "df = df.drop('feature_vector')"
      ],
      "metadata": {
        "id": "waHDA1P6U_uy"
      },
      "execution_count": null,
      "outputs": []
    },
    {
      "cell_type": "code",
      "source": [
        "df.show(2)"
      ],
      "metadata": {
        "colab": {
          "base_uri": "https://localhost:8080/"
        },
        "id": "lKUaQUeWVF5s",
        "outputId": "82dc4770-05c7-4aa8-ae65-281ce31e5a9d"
      },
      "execution_count": null,
      "outputs": [
        {
          "output_type": "stream",
          "name": "stdout",
          "text": [
            "+---+---+-------------+---------+-----------+---------+----------+-----+--------------+-------+--------+------------+\n",
            "|Age|Sex|ChestPainType|RestingBP|Cholesterol|FastingBS|RestingECG|MaxHR|ExerciseAngina|Oldpeak|ST_Slope|HeartDisease|\n",
            "+---+---+-------------+---------+-----------+---------+----------+-----+--------------+-------+--------+------------+\n",
            "| 40|  M|          ATA|      140|        289|        0|    Normal|  172|             N|    0.0|      Up|           0|\n",
            "| 49|  F|          NAP|      160|        180|        0|    Normal|  156|             N|    1.0|    Flat|           1|\n",
            "+---+---+-------------+---------+-----------+---------+----------+-----+--------------+-------+--------+------------+\n",
            "only showing top 2 rows\n",
            "\n"
          ]
        }
      ]
    },
    {
      "cell_type": "code",
      "source": [
        "from pyspark.ml.feature import StringIndexer\n",
        "sex_ind = StringIndexer(inputCol='Sex', outputCol='Sex_idx')"
      ],
      "metadata": {
        "id": "8dQJf9mYVHm9"
      },
      "execution_count": null,
      "outputs": []
    },
    {
      "cell_type": "code",
      "source": [
        "sex_ind_fit = sex_ind.fit(df)"
      ],
      "metadata": {
        "id": "vhAYYgw1Vk2z"
      },
      "execution_count": null,
      "outputs": []
    },
    {
      "cell_type": "code",
      "source": [
        "df_new = sex_ind_fit.transform(df)"
      ],
      "metadata": {
        "id": "DnzhAK5BXVfJ"
      },
      "execution_count": null,
      "outputs": []
    },
    {
      "cell_type": "code",
      "source": [
        "df_new.show(5)"
      ],
      "metadata": {
        "colab": {
          "base_uri": "https://localhost:8080/"
        },
        "id": "1-OPgKfrXY6l",
        "outputId": "d0649463-8816-4caa-ce98-c3600f60f9b2"
      },
      "execution_count": null,
      "outputs": [
        {
          "output_type": "stream",
          "name": "stdout",
          "text": [
            "+---+---+-------------+---------+-----------+---------+----------+-----+--------------+-------+--------+------------+-------+\n",
            "|Age|Sex|ChestPainType|RestingBP|Cholesterol|FastingBS|RestingECG|MaxHR|ExerciseAngina|Oldpeak|ST_Slope|HeartDisease|Sex_idx|\n",
            "+---+---+-------------+---------+-----------+---------+----------+-----+--------------+-------+--------+------------+-------+\n",
            "| 40|  M|          ATA|      140|        289|        0|    Normal|  172|             N|    0.0|      Up|           0|    0.0|\n",
            "| 49|  F|          NAP|      160|        180|        0|    Normal|  156|             N|    1.0|    Flat|           1|    1.0|\n",
            "| 37|  M|          ATA|      130|        283|        0|        ST|   98|             N|    0.0|      Up|           0|    0.0|\n",
            "| 48|  F|          ASY|      138|        214|        0|    Normal|  108|             Y|    1.5|    Flat|           1|    1.0|\n",
            "| 54|  M|          NAP|      150|        195|        0|    Normal|  122|             N|    0.0|      Up|           0|    0.0|\n",
            "+---+---+-------------+---------+-----------+---------+----------+-----+--------------+-------+--------+------------+-------+\n",
            "only showing top 5 rows\n",
            "\n"
          ]
        }
      ]
    },
    {
      "cell_type": "code",
      "source": [
        "cpt_ind = StringIndexer(inputCol='ChestPainType', outputCol='ChestPainType_idx')"
      ],
      "metadata": {
        "id": "lxvpPjvgXgUQ"
      },
      "execution_count": null,
      "outputs": []
    },
    {
      "cell_type": "code",
      "source": [
        "df_new_2 = cpt_ind.fit(df_new).transform(df_new)"
      ],
      "metadata": {
        "id": "LCld3_LmYJy-"
      },
      "execution_count": null,
      "outputs": []
    },
    {
      "cell_type": "code",
      "source": [
        "df_new_2.select('ChestPainType', 'ChestPainType_idx').show(10)"
      ],
      "metadata": {
        "colab": {
          "base_uri": "https://localhost:8080/"
        },
        "id": "r4LDBs1UYPCx",
        "outputId": "70a3b493-eb38-47d5-8eab-7dc810458547"
      },
      "execution_count": null,
      "outputs": [
        {
          "output_type": "stream",
          "name": "stdout",
          "text": [
            "+-------------+-----------------+\n",
            "|ChestPainType|ChestPainType_idx|\n",
            "+-------------+-----------------+\n",
            "|          ATA|              2.0|\n",
            "|          NAP|              1.0|\n",
            "|          ATA|              2.0|\n",
            "|          ASY|              0.0|\n",
            "|          NAP|              1.0|\n",
            "|          NAP|              1.0|\n",
            "|          ATA|              2.0|\n",
            "|          ATA|              2.0|\n",
            "|          ASY|              0.0|\n",
            "|          ATA|              2.0|\n",
            "+-------------+-----------------+\n",
            "only showing top 10 rows\n",
            "\n"
          ]
        }
      ]
    },
    {
      "cell_type": "markdown",
      "source": [
        "## Part 11 - 13 - JOINs"
      ],
      "metadata": {
        "id": "Z_bMPi3K-EsL"
      }
    },
    {
      "cell_type": "code",
      "source": [
        "df.show(5)"
      ],
      "metadata": {
        "colab": {
          "base_uri": "https://localhost:8080/"
        },
        "id": "rp39eBM7EC6o",
        "outputId": "acb3b862-ad3b-41b0-dd51-ac67d1daa058"
      },
      "execution_count": 17,
      "outputs": [
        {
          "output_type": "stream",
          "name": "stdout",
          "text": [
            "+---+---+-------------+---------+-----------+---------+----------+-----+--------------+-------+--------+------------+\n",
            "|Age|Sex|ChestPainType|RestingBP|Cholesterol|FastingBS|RestingECG|MaxHR|ExerciseAngina|Oldpeak|ST_Slope|HeartDisease|\n",
            "+---+---+-------------+---------+-----------+---------+----------+-----+--------------+-------+--------+------------+\n",
            "| 40|  M|          ATA|      140|        289|        0|    Normal|  172|             N|    0.0|      Up|           0|\n",
            "| 49|  F|          NAP|      160|        180|        0|    Normal|  156|             N|    1.0|    Flat|           1|\n",
            "| 37|  M|          ATA|      130|        283|        0|        ST|   98|             N|    0.0|      Up|           0|\n",
            "| 48|  F|          ASY|      138|        214|        0|    Normal|  108|             Y|    1.5|    Flat|           1|\n",
            "| 54|  M|          NAP|      150|        195|        0|    Normal|  122|             N|    0.0|      Up|           0|\n",
            "+---+---+-------------+---------+-----------+---------+----------+-----+--------------+-------+--------+------------+\n",
            "only showing top 5 rows\n",
            "\n"
          ]
        }
      ]
    },
    {
      "cell_type": "code",
      "source": [
        "df.cache()\n",
        "df.count()"
      ],
      "metadata": {
        "colab": {
          "base_uri": "https://localhost:8080/"
        },
        "id": "vqAVIqPYEI15",
        "outputId": "95b1cc10-6b27-4ca7-bac3-aaf2126fe6e0"
      },
      "execution_count": 18,
      "outputs": [
        {
          "output_type": "execute_result",
          "data": {
            "text/plain": [
              "918"
            ]
          },
          "metadata": {},
          "execution_count": 18
        }
      ]
    },
    {
      "cell_type": "code",
      "source": [
        "from pyspark.sql.functions import monotonically_increasing_id\n",
        "#add a unique index column\n",
        "df = df.withColumn('index', monotonically_increasing_id())\n",
        "df.show(5)"
      ],
      "metadata": {
        "colab": {
          "base_uri": "https://localhost:8080/"
        },
        "id": "yG2oZ95jEgiW",
        "outputId": "cb05a941-1a05-4d1e-d87e-ec46586f37c9"
      },
      "execution_count": 19,
      "outputs": [
        {
          "output_type": "stream",
          "name": "stdout",
          "text": [
            "+---+---+-------------+---------+-----------+---------+----------+-----+--------------+-------+--------+------------+-----+\n",
            "|Age|Sex|ChestPainType|RestingBP|Cholesterol|FastingBS|RestingECG|MaxHR|ExerciseAngina|Oldpeak|ST_Slope|HeartDisease|index|\n",
            "+---+---+-------------+---------+-----------+---------+----------+-----+--------------+-------+--------+------------+-----+\n",
            "| 40|  M|          ATA|      140|        289|        0|    Normal|  172|             N|    0.0|      Up|           0|    0|\n",
            "| 49|  F|          NAP|      160|        180|        0|    Normal|  156|             N|    1.0|    Flat|           1|    1|\n",
            "| 37|  M|          ATA|      130|        283|        0|        ST|   98|             N|    0.0|      Up|           0|    2|\n",
            "| 48|  F|          ASY|      138|        214|        0|    Normal|  108|             Y|    1.5|    Flat|           1|    3|\n",
            "| 54|  M|          NAP|      150|        195|        0|    Normal|  122|             N|    0.0|      Up|           0|    4|\n",
            "+---+---+-------------+---------+-----------+---------+----------+-----+--------------+-------+--------+------------+-----+\n",
            "only showing top 5 rows\n",
            "\n"
          ]
        }
      ]
    },
    {
      "cell_type": "code",
      "source": [
        "df = df.select('index', *df.columns[:-1])\n",
        "df.show(5)"
      ],
      "metadata": {
        "colab": {
          "base_uri": "https://localhost:8080/"
        },
        "id": "cd_cViDmFArO",
        "outputId": "380f694b-596b-41cd-c58c-640215d50197"
      },
      "execution_count": 20,
      "outputs": [
        {
          "output_type": "stream",
          "name": "stdout",
          "text": [
            "+-----+---+---+-------------+---------+-----------+---------+----------+-----+--------------+-------+--------+------------+\n",
            "|index|Age|Sex|ChestPainType|RestingBP|Cholesterol|FastingBS|RestingECG|MaxHR|ExerciseAngina|Oldpeak|ST_Slope|HeartDisease|\n",
            "+-----+---+---+-------------+---------+-----------+---------+----------+-----+--------------+-------+--------+------------+\n",
            "|    0| 40|  M|          ATA|      140|        289|        0|    Normal|  172|             N|    0.0|      Up|           0|\n",
            "|    1| 49|  F|          NAP|      160|        180|        0|    Normal|  156|             N|    1.0|    Flat|           1|\n",
            "|    2| 37|  M|          ATA|      130|        283|        0|        ST|   98|             N|    0.0|      Up|           0|\n",
            "|    3| 48|  F|          ASY|      138|        214|        0|    Normal|  108|             Y|    1.5|    Flat|           1|\n",
            "|    4| 54|  M|          NAP|      150|        195|        0|    Normal|  122|             N|    0.0|      Up|           0|\n",
            "+-----+---+---+-------------+---------+-----------+---------+----------+-----+--------------+-------+--------+------------+\n",
            "only showing top 5 rows\n",
            "\n"
          ]
        }
      ]
    },
    {
      "cell_type": "code",
      "source": [
        "!gdown --id  1NJ8tAEdiC7b7iEzeBb7XiyCYNsWNBIAP\n",
        "df2 = spark.read.csv('patients.csv', header=True, inferSchema=True)\n",
        "df2.show(5)"
      ],
      "metadata": {
        "id": "zB2uomlUOGNu"
      },
      "execution_count": null,
      "outputs": []
    },
    {
      "cell_type": "code",
      "source": [
        "df_inner = df.join(df2, df.index==df2.id, how='inner')"
      ],
      "metadata": {
        "id": "s6DSHTtiOafg"
      },
      "execution_count": 48,
      "outputs": []
    },
    {
      "cell_type": "code",
      "source": [
        "df_inner.show(5)"
      ],
      "metadata": {
        "colab": {
          "base_uri": "https://localhost:8080/"
        },
        "id": "nt42Cda5O45E",
        "outputId": "3e51c6f0-c396-4c27-c30c-76c0837bd5ac"
      },
      "execution_count": 49,
      "outputs": [
        {
          "output_type": "stream",
          "name": "stdout",
          "text": [
            "+-----+---+---+-------------+---------+-----------+---------+----------+-----+--------------+-------+--------+------------+---+---------+---------+\n",
            "|index|Age|Sex|ChestPainType|RestingBP|Cholesterol|FastingBS|RestingECG|MaxHR|ExerciseAngina|Oldpeak|ST_Slope|HeartDisease| id|FirstName| LastName|\n",
            "+-----+---+---+-------------+---------+-----------+---------+----------+-----+--------------+-------+--------+------------+---+---------+---------+\n",
            "|    4| 54|  M|          NAP|      150|        195|        0|    Normal|  122|             N|    0.0|      Up|           0|  4|     Paul|   Murray|\n",
            "|    5| 39|  M|          NAP|      120|        339|        0|    Normal|  170|             N|    0.0|      Up|           0|  5|    Lydia|   Walker|\n",
            "|    6| 45|  F|          ATA|      130|        237|        0|    Normal|  170|             N|    0.0|      Up|           0|  6|    Garry|   Harper|\n",
            "|    7| 54|  M|          ATA|      110|        208|        0|    Normal|  142|             N|    0.0|      Up|           0|  7|   Alfred|    Dixon|\n",
            "|    8| 37|  M|          ASY|      140|        207|        0|    Normal|  130|             Y|    1.5|    Flat|           1|  8|   Harold|Henderson|\n",
            "+-----+---+---+-------------+---------+-----------+---------+----------+-----+--------------+-------+--------+------------+---+---------+---------+\n",
            "only showing top 5 rows\n",
            "\n"
          ]
        }
      ]
    },
    {
      "cell_type": "code",
      "source": [
        "df_inner.count()"
      ],
      "metadata": {
        "colab": {
          "base_uri": "https://localhost:8080/"
        },
        "id": "X3-Wyw9OPBBM",
        "outputId": "867cbbf0-30bd-417a-99ab-32e439841e7f"
      },
      "execution_count": 50,
      "outputs": [
        {
          "output_type": "execute_result",
          "data": {
            "text/plain": [
              "914"
            ]
          },
          "metadata": {},
          "execution_count": 50
        }
      ]
    },
    {
      "cell_type": "code",
      "source": [
        "df_outer = df.join(df2, df.index==df2.id, how='outer')"
      ],
      "metadata": {
        "id": "NvR75-NvPLzB"
      },
      "execution_count": 51,
      "outputs": []
    },
    {
      "cell_type": "code",
      "source": [
        "df_outer.show(5)"
      ],
      "metadata": {
        "colab": {
          "base_uri": "https://localhost:8080/"
        },
        "id": "7Gy4kcoAPhcR",
        "outputId": "fb239b40-da83-4c28-d519-a769b79b0e74"
      },
      "execution_count": 52,
      "outputs": [
        {
          "output_type": "stream",
          "name": "stdout",
          "text": [
            "+-----+---+---+-------------+---------+-----------+---------+----------+-----+--------------+-------+--------+------------+----+---------+--------+\n",
            "|index|Age|Sex|ChestPainType|RestingBP|Cholesterol|FastingBS|RestingECG|MaxHR|ExerciseAngina|Oldpeak|ST_Slope|HeartDisease|  id|FirstName|LastName|\n",
            "+-----+---+---+-------------+---------+-----------+---------+----------+-----+--------------+-------+--------+------------+----+---------+--------+\n",
            "|    0| 40|  M|          ATA|      140|        289|        0|    Normal|  172|             N|    0.0|      Up|           0|null|     null|    null|\n",
            "|    1| 49|  F|          NAP|      160|        180|        0|    Normal|  156|             N|    1.0|    Flat|           1|null|     null|    null|\n",
            "|    2| 37|  M|          ATA|      130|        283|        0|        ST|   98|             N|    0.0|      Up|           0|null|     null|    null|\n",
            "|    3| 48|  F|          ASY|      138|        214|        0|    Normal|  108|             Y|    1.5|    Flat|           1|null|     null|    null|\n",
            "|    4| 54|  M|          NAP|      150|        195|        0|    Normal|  122|             N|    0.0|      Up|           0|   4|     Paul|  Murray|\n",
            "+-----+---+---+-------------+---------+-----------+---------+----------+-----+--------------+-------+--------+------------+----+---------+--------+\n",
            "only showing top 5 rows\n",
            "\n"
          ]
        }
      ]
    },
    {
      "cell_type": "code",
      "source": [
        "df_outer.count()"
      ],
      "metadata": {
        "colab": {
          "base_uri": "https://localhost:8080/"
        },
        "id": "NYor34_zPkPi",
        "outputId": "36b48a93-7e58-4839-c1c5-0162cc9e8448"
      },
      "execution_count": 53,
      "outputs": [
        {
          "output_type": "execute_result",
          "data": {
            "text/plain": [
              "1004"
            ]
          },
          "metadata": {},
          "execution_count": 53
        }
      ]
    },
    {
      "cell_type": "code",
      "source": [
        "df_left = df.join(df2, df.index==df2.id, how='left')"
      ],
      "metadata": {
        "id": "iI2-5RfNP0xt"
      },
      "execution_count": 54,
      "outputs": []
    },
    {
      "cell_type": "code",
      "source": [
        "df_left.count()"
      ],
      "metadata": {
        "colab": {
          "base_uri": "https://localhost:8080/"
        },
        "id": "bi_7gxtRP436",
        "outputId": "b13a95a0-18d1-4135-be4d-b1ed7ccf1298"
      },
      "execution_count": 55,
      "outputs": [
        {
          "output_type": "execute_result",
          "data": {
            "text/plain": [
              "918"
            ]
          },
          "metadata": {},
          "execution_count": 55
        }
      ]
    },
    {
      "cell_type": "code",
      "source": [
        "df_right = df.join(df2, df.index==df2.id, how='right')\n",
        "df_right.count()"
      ],
      "metadata": {
        "colab": {
          "base_uri": "https://localhost:8080/"
        },
        "id": "j9eec_q4P8dM",
        "outputId": "4d8013ad-5817-4b62-967b-3621518ab95a"
      },
      "execution_count": 56,
      "outputs": [
        {
          "output_type": "execute_result",
          "data": {
            "text/plain": [
              "1000"
            ]
          },
          "metadata": {},
          "execution_count": 56
        }
      ]
    },
    {
      "cell_type": "markdown",
      "source": [
        "## Part 14 - Builtin Functions"
      ],
      "metadata": {
        "id": "T9TKg5Q8QZqP"
      }
    },
    {
      "cell_type": "code",
      "source": [
        "# Numeric Functions\n",
        "from pyspark.sql.functions import min, max, avg"
      ],
      "metadata": {
        "id": "-_taBU_hRBQS"
      },
      "execution_count": 58,
      "outputs": []
    },
    {
      "cell_type": "code",
      "source": [
        "df.select(min('Cholesterol'), max('Cholesterol'), avg('Cholesterol')).show()"
      ],
      "metadata": {
        "colab": {
          "base_uri": "https://localhost:8080/"
        },
        "id": "b7JwXRp9TPEX",
        "outputId": "9a27aeed-f651-4aa3-bd6c-8dd099d18787"
      },
      "execution_count": 61,
      "outputs": [
        {
          "output_type": "stream",
          "name": "stdout",
          "text": [
            "+----------------+----------------+-----------------+\n",
            "|min(Cholesterol)|max(Cholesterol)| avg(Cholesterol)|\n",
            "+----------------+----------------+-----------------+\n",
            "|               0|             603|198.7995642701525|\n",
            "+----------------+----------------+-----------------+\n",
            "\n"
          ]
        }
      ]
    },
    {
      "cell_type": "code",
      "source": [
        "#String Functions\n",
        "from pyspark.sql.functions import lower, upper, substring"
      ],
      "metadata": {
        "id": "D5aHlQB-Th1g"
      },
      "execution_count": 62,
      "outputs": []
    },
    {
      "cell_type": "code",
      "source": [
        "df.select(lower('ChestPainType'), upper('ChestPainType'), substring('ChestPainType', 2, 2)).show(5)"
      ],
      "metadata": {
        "colab": {
          "base_uri": "https://localhost:8080/"
        },
        "id": "KIodbY-zTruw",
        "outputId": "4c6e0bc1-d261-4054-e0ea-3bed3725a6f6"
      },
      "execution_count": 67,
      "outputs": [
        {
          "output_type": "stream",
          "name": "stdout",
          "text": [
            "+--------------------+--------------------+------------------------------+\n",
            "|lower(ChestPainType)|upper(ChestPainType)|substring(ChestPainType, 2, 2)|\n",
            "+--------------------+--------------------+------------------------------+\n",
            "|                 ata|                 ATA|                            TA|\n",
            "|                 nap|                 NAP|                            AP|\n",
            "|                 ata|                 ATA|                            TA|\n",
            "|                 asy|                 ASY|                            SY|\n",
            "|                 nap|                 NAP|                            AP|\n",
            "+--------------------+--------------------+------------------------------+\n",
            "only showing top 5 rows\n",
            "\n"
          ]
        }
      ]
    },
    {
      "cell_type": "code",
      "source": [
        "from pyspark.sql.functions import expr"
      ],
      "metadata": {
        "id": "oHL1SfEmUIHO"
      },
      "execution_count": 69,
      "outputs": []
    },
    {
      "cell_type": "code",
      "source": [
        "df = df.withColumn('date', expr('date_add(current_timestamp(), cast(rand()*365 as int))'))\n",
        "df.show(5)"
      ],
      "metadata": {
        "colab": {
          "base_uri": "https://localhost:8080/"
        },
        "id": "erDB_V0dUloX",
        "outputId": "81880ddc-125e-4547-de34-043d1c6fad06"
      },
      "execution_count": 70,
      "outputs": [
        {
          "output_type": "stream",
          "name": "stdout",
          "text": [
            "+-----+---+---+-------------+---------+-----------+---------+----------+-----+--------------+-------+--------+------------+----------+\n",
            "|index|Age|Sex|ChestPainType|RestingBP|Cholesterol|FastingBS|RestingECG|MaxHR|ExerciseAngina|Oldpeak|ST_Slope|HeartDisease|      date|\n",
            "+-----+---+---+-------------+---------+-----------+---------+----------+-----+--------------+-------+--------+------------+----------+\n",
            "|    0| 40|  M|          ATA|      140|        289|        0|    Normal|  172|             N|    0.0|      Up|           0|2024-01-23|\n",
            "|    1| 49|  F|          NAP|      160|        180|        0|    Normal|  156|             N|    1.0|    Flat|           1|2023-11-20|\n",
            "|    2| 37|  M|          ATA|      130|        283|        0|        ST|   98|             N|    0.0|      Up|           0|2024-01-12|\n",
            "|    3| 48|  F|          ASY|      138|        214|        0|    Normal|  108|             Y|    1.5|    Flat|           1|2023-08-06|\n",
            "|    4| 54|  M|          NAP|      150|        195|        0|    Normal|  122|             N|    0.0|      Up|           0|2024-05-03|\n",
            "+-----+---+---+-------------+---------+-----------+---------+----------+-----+--------------+-------+--------+------------+----------+\n",
            "only showing top 5 rows\n",
            "\n"
          ]
        }
      ]
    },
    {
      "cell_type": "code",
      "source": [
        "from pyspark.sql.functions import date_add, date_sub, datediff, date_format"
      ],
      "metadata": {
        "id": "YwFhnKsJVGVJ"
      },
      "execution_count": 75,
      "outputs": []
    },
    {
      "cell_type": "code",
      "source": [
        "df.select(min('date'), max('date'), datediff(max('date'), min('date')),\n",
        "          date_sub(min('date'), 10), date_add(max('date'), 10)).show()"
      ],
      "metadata": {
        "colab": {
          "base_uri": "https://localhost:8080/"
        },
        "id": "6tN3_rMdVevc",
        "outputId": "1dcdf64c-606f-4498-b882-fde5aecd8d2d"
      },
      "execution_count": 74,
      "outputs": [
        {
          "output_type": "stream",
          "name": "stdout",
          "text": [
            "+----------+----------+------------------------------+-----------------------+-----------------------+\n",
            "| min(date)| max(date)|datediff(max(date), min(date))|date_sub(min(date), 10)|date_add(max(date), 10)|\n",
            "+----------+----------+------------------------------+-----------------------+-----------------------+\n",
            "|2023-05-11|2024-05-09|                           364|             2023-05-01|             2024-05-19|\n",
            "+----------+----------+------------------------------+-----------------------+-----------------------+\n",
            "\n"
          ]
        }
      ]
    },
    {
      "cell_type": "code",
      "source": [
        "df.select(date_format('date', 'dd/MMM/yyyy')).show(5)"
      ],
      "metadata": {
        "colab": {
          "base_uri": "https://localhost:8080/"
        },
        "id": "LMuVQAZCWSK9",
        "outputId": "e7764cf0-a1b5-46b8-f5c9-81148149679c"
      },
      "execution_count": 76,
      "outputs": [
        {
          "output_type": "stream",
          "name": "stdout",
          "text": [
            "+------------------------------+\n",
            "|date_format(date, dd/MMM/yyyy)|\n",
            "+------------------------------+\n",
            "|                   23/Jan/2024|\n",
            "|                   20/Nov/2023|\n",
            "|                   12/Jan/2024|\n",
            "|                   06/Aug/2023|\n",
            "|                   03/May/2024|\n",
            "+------------------------------+\n",
            "only showing top 5 rows\n",
            "\n"
          ]
        }
      ]
    },
    {
      "cell_type": "markdown",
      "source": [
        "## Part 15 - RDD"
      ],
      "metadata": {
        "id": "CDMHYfKZXgh0"
      }
    }
  ],
  "metadata": {
    "colab": {
      "provenance": [],
      "collapsed_sections": [
        "zvUJh5IyyLwe",
        "WwGrKO--yOTy",
        "jwscjM3WyW0q",
        "XZmpdPlVzFdc",
        "zZegBVPnzLWM",
        "bRuTRHh4zYYs",
        "2cRU95cg8C9j",
        "LPTJZwRnzkFa",
        "8-9UVDG240er",
        "ARp-I7EINLE2",
        "jxMko7lsTkmZ",
        "Z_bMPi3K-EsL",
        "T9TKg5Q8QZqP"
      ]
    },
    "kernelspec": {
      "display_name": "Python 3",
      "name": "python3"
    }
  },
  "nbformat": 4,
  "nbformat_minor": 0
}